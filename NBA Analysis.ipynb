{
 "cells": [
  {
   "cell_type": "code",
   "execution_count": 2,
   "metadata": {},
   "outputs": [],
   "source": [
    "# import dependencies\n",
    "import pandas as pd\n",
    "import matplotlib as plt\n",
    "\n"
   ]
  },
  {
   "cell_type": "code",
   "execution_count": 3,
   "metadata": {},
   "outputs": [],
   "source": [
    "# import the dataset\n",
    "team_Data = pd.read_csv(\"Resources/teamData.csv\")\n",
    "player_Data = pd.read_csv(\"Resources/playerData.csv\")"
   ]
  },
  {
   "cell_type": "code",
   "execution_count": 4,
   "metadata": {},
   "outputs": [
    {
     "output_type": "execute_result",
     "data": {
      "text/plain": [
       "   Year   Team Record  Winning Percentage   TM\n",
       "0  1964  76ers  34-46               0.425  PHI\n",
       "1  1965  76ers  40-40               0.500  PHI\n",
       "2  1966  76ers  55-25               0.688  PHI\n",
       "3  1967  76ers  68-13               0.840  PHI\n",
       "4  1968  76ers  62-20               0.756  PHI"
      ],
      "text/html": "<div>\n<style scoped>\n    .dataframe tbody tr th:only-of-type {\n        vertical-align: middle;\n    }\n\n    .dataframe tbody tr th {\n        vertical-align: top;\n    }\n\n    .dataframe thead th {\n        text-align: right;\n    }\n</style>\n<table border=\"1\" class=\"dataframe\">\n  <thead>\n    <tr style=\"text-align: right;\">\n      <th></th>\n      <th>Year</th>\n      <th>Team</th>\n      <th>Record</th>\n      <th>Winning Percentage</th>\n      <th>TM</th>\n    </tr>\n  </thead>\n  <tbody>\n    <tr>\n      <th>0</th>\n      <td>1964</td>\n      <td>76ers</td>\n      <td>34-46</td>\n      <td>0.425</td>\n      <td>PHI</td>\n    </tr>\n    <tr>\n      <th>1</th>\n      <td>1965</td>\n      <td>76ers</td>\n      <td>40-40</td>\n      <td>0.500</td>\n      <td>PHI</td>\n    </tr>\n    <tr>\n      <th>2</th>\n      <td>1966</td>\n      <td>76ers</td>\n      <td>55-25</td>\n      <td>0.688</td>\n      <td>PHI</td>\n    </tr>\n    <tr>\n      <th>3</th>\n      <td>1967</td>\n      <td>76ers</td>\n      <td>68-13</td>\n      <td>0.840</td>\n      <td>PHI</td>\n    </tr>\n    <tr>\n      <th>4</th>\n      <td>1968</td>\n      <td>76ers</td>\n      <td>62-20</td>\n      <td>0.756</td>\n      <td>PHI</td>\n    </tr>\n  </tbody>\n</table>\n</div>"
     },
     "metadata": {},
     "execution_count": 4
    }
   ],
   "source": [
    "# load the data\n",
    "team_Data.head()"
   ]
  },
  {
   "cell_type": "code",
   "execution_count": 5,
   "metadata": {},
   "outputs": [
    {
     "output_type": "execute_result",
     "data": {
      "text/plain": [
       "   Index    Year         Player  Pos   Age   Tm     G  GS  MP  PER  ...  \\\n",
       "0     10  1950.0  Charlie Black  F-C  28.0  AND  29.0 NaN NaN  NaN  ...   \n",
       "1     19  1950.0  Frankie Brian    G  26.0  AND  64.0 NaN NaN  NaN  ...   \n",
       "2     31  1950.0    Jake Carter  F-C  25.0  AND  11.0 NaN NaN  NaN  ...   \n",
       "3     37  1950.0     Bill Closs   SF  28.0  AND  64.0 NaN NaN  NaN  ...   \n",
       "4     73  1950.0    Frank Gates    G  29.0  AND  64.0 NaN NaN  NaN  ...   \n",
       "\n",
       "     FT%  ORB  DRB  TRB    AST  STL  BLK  TOV     PF     PTS  \n",
       "0  0.688  NaN  NaN  NaN   88.0  NaN  NaN  NaN  133.0   279.0  \n",
       "1  0.824  NaN  NaN  NaN  189.0  NaN  NaN  NaN  192.0  1138.0  \n",
       "2  0.667  NaN  NaN  NaN    8.0  NaN  NaN  NaN   32.0    38.0  \n",
       "3  0.718  NaN  NaN  NaN  160.0  NaN  NaN  NaN  190.0   752.0  \n",
       "4  0.622  NaN  NaN  NaN   91.0  NaN  NaN  NaN  147.0   287.0  \n",
       "\n",
       "[5 rows x 53 columns]"
      ],
      "text/html": "<div>\n<style scoped>\n    .dataframe tbody tr th:only-of-type {\n        vertical-align: middle;\n    }\n\n    .dataframe tbody tr th {\n        vertical-align: top;\n    }\n\n    .dataframe thead th {\n        text-align: right;\n    }\n</style>\n<table border=\"1\" class=\"dataframe\">\n  <thead>\n    <tr style=\"text-align: right;\">\n      <th></th>\n      <th>Index</th>\n      <th>Year</th>\n      <th>Player</th>\n      <th>Pos</th>\n      <th>Age</th>\n      <th>Tm</th>\n      <th>G</th>\n      <th>GS</th>\n      <th>MP</th>\n      <th>PER</th>\n      <th>...</th>\n      <th>FT%</th>\n      <th>ORB</th>\n      <th>DRB</th>\n      <th>TRB</th>\n      <th>AST</th>\n      <th>STL</th>\n      <th>BLK</th>\n      <th>TOV</th>\n      <th>PF</th>\n      <th>PTS</th>\n    </tr>\n  </thead>\n  <tbody>\n    <tr>\n      <th>0</th>\n      <td>10</td>\n      <td>1950.0</td>\n      <td>Charlie Black</td>\n      <td>F-C</td>\n      <td>28.0</td>\n      <td>AND</td>\n      <td>29.0</td>\n      <td>NaN</td>\n      <td>NaN</td>\n      <td>NaN</td>\n      <td>...</td>\n      <td>0.688</td>\n      <td>NaN</td>\n      <td>NaN</td>\n      <td>NaN</td>\n      <td>88.0</td>\n      <td>NaN</td>\n      <td>NaN</td>\n      <td>NaN</td>\n      <td>133.0</td>\n      <td>279.0</td>\n    </tr>\n    <tr>\n      <th>1</th>\n      <td>19</td>\n      <td>1950.0</td>\n      <td>Frankie Brian</td>\n      <td>G</td>\n      <td>26.0</td>\n      <td>AND</td>\n      <td>64.0</td>\n      <td>NaN</td>\n      <td>NaN</td>\n      <td>NaN</td>\n      <td>...</td>\n      <td>0.824</td>\n      <td>NaN</td>\n      <td>NaN</td>\n      <td>NaN</td>\n      <td>189.0</td>\n      <td>NaN</td>\n      <td>NaN</td>\n      <td>NaN</td>\n      <td>192.0</td>\n      <td>1138.0</td>\n    </tr>\n    <tr>\n      <th>2</th>\n      <td>31</td>\n      <td>1950.0</td>\n      <td>Jake Carter</td>\n      <td>F-C</td>\n      <td>25.0</td>\n      <td>AND</td>\n      <td>11.0</td>\n      <td>NaN</td>\n      <td>NaN</td>\n      <td>NaN</td>\n      <td>...</td>\n      <td>0.667</td>\n      <td>NaN</td>\n      <td>NaN</td>\n      <td>NaN</td>\n      <td>8.0</td>\n      <td>NaN</td>\n      <td>NaN</td>\n      <td>NaN</td>\n      <td>32.0</td>\n      <td>38.0</td>\n    </tr>\n    <tr>\n      <th>3</th>\n      <td>37</td>\n      <td>1950.0</td>\n      <td>Bill Closs</td>\n      <td>SF</td>\n      <td>28.0</td>\n      <td>AND</td>\n      <td>64.0</td>\n      <td>NaN</td>\n      <td>NaN</td>\n      <td>NaN</td>\n      <td>...</td>\n      <td>0.718</td>\n      <td>NaN</td>\n      <td>NaN</td>\n      <td>NaN</td>\n      <td>160.0</td>\n      <td>NaN</td>\n      <td>NaN</td>\n      <td>NaN</td>\n      <td>190.0</td>\n      <td>752.0</td>\n    </tr>\n    <tr>\n      <th>4</th>\n      <td>73</td>\n      <td>1950.0</td>\n      <td>Frank Gates</td>\n      <td>G</td>\n      <td>29.0</td>\n      <td>AND</td>\n      <td>64.0</td>\n      <td>NaN</td>\n      <td>NaN</td>\n      <td>NaN</td>\n      <td>...</td>\n      <td>0.622</td>\n      <td>NaN</td>\n      <td>NaN</td>\n      <td>NaN</td>\n      <td>91.0</td>\n      <td>NaN</td>\n      <td>NaN</td>\n      <td>NaN</td>\n      <td>147.0</td>\n      <td>287.0</td>\n    </tr>\n  </tbody>\n</table>\n<p>5 rows × 53 columns</p>\n</div>"
     },
     "metadata": {},
     "execution_count": 5
    }
   ],
   "source": [
    "player_Data.head()"
   ]
  },
  {
   "cell_type": "code",
   "execution_count": 15,
   "metadata": {},
   "outputs": [
    {
     "data": {
      "text/plain": [
       "dtype('float64')"
      ]
     },
     "execution_count": 15,
     "metadata": {},
     "output_type": "execute_result"
    }
   ],
   "source": [
    "# Merging Crossreference_data and player_data - NOTE: We need to check the types of the years first\n",
    "\n",
    "player_Data[\"Year\"].dtypes"
   ]
  },
  {
   "cell_type": "code",
   "execution_count": 16,
   "metadata": {},
   "outputs": [
    {
     "data": {
      "text/plain": [
       "dtype('int64')"
      ]
     },
     "execution_count": 16,
     "metadata": {},
     "output_type": "execute_result"
    }
   ],
   "source": [
    "team_Data[\"Year\"].dtypes"
   ]
  },
  {
   "cell_type": "code",
   "execution_count": 8,
   "metadata": {},
   "outputs": [
    {
     "output_type": "execute_result",
     "data": {
      "text/plain": [
       "       Index    Year            Player Pos   Age   Tm     G    GS      MP  \\\n",
       "263     7937  1986.0       John Battle  SG  23.0  ATL  64.0   0.0   639.0   \n",
       "264     7963  1986.0      Antoine Carr  PF  24.0  ATL  17.0   0.0   258.0   \n",
       "265     7973  1986.0   Lorenzo Charles  SF  22.0  ATL  36.0   0.0   273.0   \n",
       "266     8000  1986.0      Johnny Davis  SG  30.0  ATL  27.0   7.0   402.0   \n",
       "267     8050  1986.0    Scott Hastings  PF  25.0  ATL  62.0   0.0   650.0   \n",
       "...      ...     ...               ...  ..   ...  ...   ...   ...     ...   \n",
       "24592  13341  1997.0    Rod Strickland  PG  30.0  WSB  82.0  81.0  2997.0   \n",
       "24593  13365  1997.0       Ben Wallace  PF  22.0  WSB  34.0   0.0   197.0   \n",
       "24594  13374  1997.0      Chris Webber  PF  23.0  WSB  72.0  72.0  2806.0   \n",
       "24595  13382  1997.0     Chris Whitney  PG  25.0  WSB  82.0   1.0  1117.0   \n",
       "24596  13394  1997.0  Lorenzo Williams   C  27.0  WSB  19.0   0.0   264.0   \n",
       "\n",
       "        PER  ...    FT%    ORB    DRB    TRB    AST    STL    BLK    TOV  \\\n",
       "263    11.7  ...  0.728   12.0   50.0   62.0   74.0   23.0    3.0   47.0   \n",
       "264    14.4  ...  0.667   16.0   36.0   52.0   14.0    7.0   15.0   14.0   \n",
       "265    11.5  ...  0.667   13.0   26.0   39.0    8.0    2.0    6.0   18.0   \n",
       "266    13.9  ...  0.864    2.0   17.0   19.0  112.0   13.0    0.0   38.0   \n",
       "267     7.5  ...  0.857   44.0   80.0  124.0   26.0   14.0    8.0   40.0   \n",
       "...     ...  ...    ...    ...    ...    ...    ...    ...    ...    ...   \n",
       "24592  19.7  ...  0.738   95.0  240.0  335.0  727.0  143.0   14.0  270.0   \n",
       "24593   6.0  ...  0.300   25.0   33.0   58.0    2.0    8.0   11.0   18.0   \n",
       "24594  21.8  ...  0.565  238.0  505.0  743.0  331.0  122.0  137.0  230.0   \n",
       "24595  15.2  ...  0.832   13.0   91.0  104.0  182.0   49.0    4.0   68.0   \n",
       "24596   8.0  ...  0.714   28.0   41.0   69.0    4.0    6.0    8.0   18.0   \n",
       "\n",
       "          PF     PTS  \n",
       "263     80.0   277.0  \n",
       "264     51.0   116.0  \n",
       "265     37.0   122.0  \n",
       "266     32.0   144.0  \n",
       "267    118.0   193.0  \n",
       "...      ...     ...  \n",
       "24592  166.0  1410.0  \n",
       "24593   27.0    38.0  \n",
       "24594  258.0  1445.0  \n",
       "24595  100.0   430.0  \n",
       "24596   49.0    45.0  \n",
       "\n",
       "[16738 rows x 53 columns]"
      ],
      "text/html": "<div>\n<style scoped>\n    .dataframe tbody tr th:only-of-type {\n        vertical-align: middle;\n    }\n\n    .dataframe tbody tr th {\n        vertical-align: top;\n    }\n\n    .dataframe thead th {\n        text-align: right;\n    }\n</style>\n<table border=\"1\" class=\"dataframe\">\n  <thead>\n    <tr style=\"text-align: right;\">\n      <th></th>\n      <th>Index</th>\n      <th>Year</th>\n      <th>Player</th>\n      <th>Pos</th>\n      <th>Age</th>\n      <th>Tm</th>\n      <th>G</th>\n      <th>GS</th>\n      <th>MP</th>\n      <th>PER</th>\n      <th>...</th>\n      <th>FT%</th>\n      <th>ORB</th>\n      <th>DRB</th>\n      <th>TRB</th>\n      <th>AST</th>\n      <th>STL</th>\n      <th>BLK</th>\n      <th>TOV</th>\n      <th>PF</th>\n      <th>PTS</th>\n    </tr>\n  </thead>\n  <tbody>\n    <tr>\n      <th>263</th>\n      <td>7937</td>\n      <td>1986.0</td>\n      <td>John Battle</td>\n      <td>SG</td>\n      <td>23.0</td>\n      <td>ATL</td>\n      <td>64.0</td>\n      <td>0.0</td>\n      <td>639.0</td>\n      <td>11.7</td>\n      <td>...</td>\n      <td>0.728</td>\n      <td>12.0</td>\n      <td>50.0</td>\n      <td>62.0</td>\n      <td>74.0</td>\n      <td>23.0</td>\n      <td>3.0</td>\n      <td>47.0</td>\n      <td>80.0</td>\n      <td>277.0</td>\n    </tr>\n    <tr>\n      <th>264</th>\n      <td>7963</td>\n      <td>1986.0</td>\n      <td>Antoine Carr</td>\n      <td>PF</td>\n      <td>24.0</td>\n      <td>ATL</td>\n      <td>17.0</td>\n      <td>0.0</td>\n      <td>258.0</td>\n      <td>14.4</td>\n      <td>...</td>\n      <td>0.667</td>\n      <td>16.0</td>\n      <td>36.0</td>\n      <td>52.0</td>\n      <td>14.0</td>\n      <td>7.0</td>\n      <td>15.0</td>\n      <td>14.0</td>\n      <td>51.0</td>\n      <td>116.0</td>\n    </tr>\n    <tr>\n      <th>265</th>\n      <td>7973</td>\n      <td>1986.0</td>\n      <td>Lorenzo Charles</td>\n      <td>SF</td>\n      <td>22.0</td>\n      <td>ATL</td>\n      <td>36.0</td>\n      <td>0.0</td>\n      <td>273.0</td>\n      <td>11.5</td>\n      <td>...</td>\n      <td>0.667</td>\n      <td>13.0</td>\n      <td>26.0</td>\n      <td>39.0</td>\n      <td>8.0</td>\n      <td>2.0</td>\n      <td>6.0</td>\n      <td>18.0</td>\n      <td>37.0</td>\n      <td>122.0</td>\n    </tr>\n    <tr>\n      <th>266</th>\n      <td>8000</td>\n      <td>1986.0</td>\n      <td>Johnny Davis</td>\n      <td>SG</td>\n      <td>30.0</td>\n      <td>ATL</td>\n      <td>27.0</td>\n      <td>7.0</td>\n      <td>402.0</td>\n      <td>13.9</td>\n      <td>...</td>\n      <td>0.864</td>\n      <td>2.0</td>\n      <td>17.0</td>\n      <td>19.0</td>\n      <td>112.0</td>\n      <td>13.0</td>\n      <td>0.0</td>\n      <td>38.0</td>\n      <td>32.0</td>\n      <td>144.0</td>\n    </tr>\n    <tr>\n      <th>267</th>\n      <td>8050</td>\n      <td>1986.0</td>\n      <td>Scott Hastings</td>\n      <td>PF</td>\n      <td>25.0</td>\n      <td>ATL</td>\n      <td>62.0</td>\n      <td>0.0</td>\n      <td>650.0</td>\n      <td>7.5</td>\n      <td>...</td>\n      <td>0.857</td>\n      <td>44.0</td>\n      <td>80.0</td>\n      <td>124.0</td>\n      <td>26.0</td>\n      <td>14.0</td>\n      <td>8.0</td>\n      <td>40.0</td>\n      <td>118.0</td>\n      <td>193.0</td>\n    </tr>\n    <tr>\n      <th>...</th>\n      <td>...</td>\n      <td>...</td>\n      <td>...</td>\n      <td>...</td>\n      <td>...</td>\n      <td>...</td>\n      <td>...</td>\n      <td>...</td>\n      <td>...</td>\n      <td>...</td>\n      <td>...</td>\n      <td>...</td>\n      <td>...</td>\n      <td>...</td>\n      <td>...</td>\n      <td>...</td>\n      <td>...</td>\n      <td>...</td>\n      <td>...</td>\n      <td>...</td>\n      <td>...</td>\n    </tr>\n    <tr>\n      <th>24592</th>\n      <td>13341</td>\n      <td>1997.0</td>\n      <td>Rod Strickland</td>\n      <td>PG</td>\n      <td>30.0</td>\n      <td>WSB</td>\n      <td>82.0</td>\n      <td>81.0</td>\n      <td>2997.0</td>\n      <td>19.7</td>\n      <td>...</td>\n      <td>0.738</td>\n      <td>95.0</td>\n      <td>240.0</td>\n      <td>335.0</td>\n      <td>727.0</td>\n      <td>143.0</td>\n      <td>14.0</td>\n      <td>270.0</td>\n      <td>166.0</td>\n      <td>1410.0</td>\n    </tr>\n    <tr>\n      <th>24593</th>\n      <td>13365</td>\n      <td>1997.0</td>\n      <td>Ben Wallace</td>\n      <td>PF</td>\n      <td>22.0</td>\n      <td>WSB</td>\n      <td>34.0</td>\n      <td>0.0</td>\n      <td>197.0</td>\n      <td>6.0</td>\n      <td>...</td>\n      <td>0.300</td>\n      <td>25.0</td>\n      <td>33.0</td>\n      <td>58.0</td>\n      <td>2.0</td>\n      <td>8.0</td>\n      <td>11.0</td>\n      <td>18.0</td>\n      <td>27.0</td>\n      <td>38.0</td>\n    </tr>\n    <tr>\n      <th>24594</th>\n      <td>13374</td>\n      <td>1997.0</td>\n      <td>Chris Webber</td>\n      <td>PF</td>\n      <td>23.0</td>\n      <td>WSB</td>\n      <td>72.0</td>\n      <td>72.0</td>\n      <td>2806.0</td>\n      <td>21.8</td>\n      <td>...</td>\n      <td>0.565</td>\n      <td>238.0</td>\n      <td>505.0</td>\n      <td>743.0</td>\n      <td>331.0</td>\n      <td>122.0</td>\n      <td>137.0</td>\n      <td>230.0</td>\n      <td>258.0</td>\n      <td>1445.0</td>\n    </tr>\n    <tr>\n      <th>24595</th>\n      <td>13382</td>\n      <td>1997.0</td>\n      <td>Chris Whitney</td>\n      <td>PG</td>\n      <td>25.0</td>\n      <td>WSB</td>\n      <td>82.0</td>\n      <td>1.0</td>\n      <td>1117.0</td>\n      <td>15.2</td>\n      <td>...</td>\n      <td>0.832</td>\n      <td>13.0</td>\n      <td>91.0</td>\n      <td>104.0</td>\n      <td>182.0</td>\n      <td>49.0</td>\n      <td>4.0</td>\n      <td>68.0</td>\n      <td>100.0</td>\n      <td>430.0</td>\n    </tr>\n    <tr>\n      <th>24596</th>\n      <td>13394</td>\n      <td>1997.0</td>\n      <td>Lorenzo Williams</td>\n      <td>C</td>\n      <td>27.0</td>\n      <td>WSB</td>\n      <td>19.0</td>\n      <td>0.0</td>\n      <td>264.0</td>\n      <td>8.0</td>\n      <td>...</td>\n      <td>0.714</td>\n      <td>28.0</td>\n      <td>41.0</td>\n      <td>69.0</td>\n      <td>4.0</td>\n      <td>6.0</td>\n      <td>8.0</td>\n      <td>18.0</td>\n      <td>49.0</td>\n      <td>45.0</td>\n    </tr>\n  </tbody>\n</table>\n<p>16738 rows × 53 columns</p>\n</div>"
     },
     "metadata": {},
     "execution_count": 8
    }
   ],
   "source": [
    "# Taking player Dataframe from 1986 till 2017\n",
    "player_Data = player_Data.loc[(player_Data[\"Year\"] >= 1986.0) & (player_Data[\"Year\"]< 2018.0)]\n",
    "player_Data\n"
   ]
  },
  {
   "cell_type": "code",
   "execution_count": null,
   "metadata": {},
   "outputs": [],
   "source": []
  },
  {
   "cell_type": "code",
   "execution_count": null,
   "metadata": {},
   "outputs": [],
   "source": []
  },
  {
   "cell_type": "code",
   "execution_count": null,
   "metadata": {},
   "outputs": [],
   "source": []
  },
  {
   "cell_type": "code",
   "execution_count": null,
   "metadata": {},
   "outputs": [],
   "source": []
  },
  {
   "cell_type": "code",
   "execution_count": null,
   "metadata": {},
   "outputs": [],
   "source": []
  },
  {
   "cell_type": "code",
   "execution_count": null,
   "metadata": {},
   "outputs": [],
   "source": []
  },
  {
   "cell_type": "code",
   "execution_count": null,
   "metadata": {},
   "outputs": [],
   "source": []
  }
 ],
 "metadata": {
  "interpreter": {
   "hash": "6f1c02d1c161c5d027715177dca30aa2b11c766fe1b39fbb30619813eef2dd31"
  },
  "kernelspec": {
   "name": "python3",
   "display_name": "Python 3.6.10 64-bit ('PythonData': conda)"
  },
  "language_info": {
   "codemirror_mode": {
    "name": "ipython",
    "version": 3
   },
   "file_extension": ".py",
   "mimetype": "text/x-python",
   "name": "python",
   "nbconvert_exporter": "python",
   "pygments_lexer": "ipython3",
   "version": "3.6.10"
  }
 },
 "nbformat": 4,
 "nbformat_minor": 4
}