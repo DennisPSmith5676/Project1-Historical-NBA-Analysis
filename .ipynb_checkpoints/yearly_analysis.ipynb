{
 "metadata": {
  "language_info": {
   "codemirror_mode": {
    "name": "ipython",
    "version": 3
   },
   "file_extension": ".py",
   "mimetype": "text/x-python",
   "name": "python",
   "nbconvert_exporter": "python",
   "pygments_lexer": "ipython3",
   "version": "3.8.8"
  },
  "orig_nbformat": 4,
  "kernelspec": {
   "name": "python3",
   "display_name": "Python 3.8.8 64-bit ('base': conda)"
  },
  "interpreter": {
   "hash": "3ea7f995cfcc8c037747962256c23b2908ca4210381f9757e40e34c9e7e88711"
  }
 },
 "nbformat": 4,
 "nbformat_minor": 2,
 "cells": [
  {
   "cell_type": "code",
   "execution_count": 75,
   "metadata": {},
   "outputs": [
    {
     "output_type": "stream",
     "name": "stderr",
     "text": [
      "<ipython-input-75-ae3f434e67ed>:40: FutureWarning: Automatic reindexing on DataFrame vs Series comparisons is deprecated and will raise ValueError in a future version.  Do `left, right = left.align(right, axis=1, copy=False)` before e.g. `left == right`\n",
      "  subset2py_no_outlier = subset2py2[~((subset2py2<(Q1-1.5*IQR)))]\n",
      "<ipython-input-75-ae3f434e67ed>:40: FutureWarning: Automatic reindexing on DataFrame vs Series comparisons is deprecated and will raise ValueError in a future version.  Do `left, right = left.align(right, axis=1, copy=False)` before e.g. `left == right`\n",
      "  subset2py_no_outlier = subset2py2[~((subset2py2<(Q1-1.5*IQR)))]\n",
      "<ipython-input-75-ae3f434e67ed>:40: FutureWarning: Automatic reindexing on DataFrame vs Series comparisons is deprecated and will raise ValueError in a future version.  Do `left, right = left.align(right, axis=1, copy=False)` before e.g. `left == right`\n",
      "  subset2py_no_outlier = subset2py2[~((subset2py2<(Q1-1.5*IQR)))]\n",
      "<ipython-input-75-ae3f434e67ed>:40: FutureWarning: Automatic reindexing on DataFrame vs Series comparisons is deprecated and will raise ValueError in a future version.  Do `left, right = left.align(right, axis=1, copy=False)` before e.g. `left == right`\n",
      "  subset2py_no_outlier = subset2py2[~((subset2py2<(Q1-1.5*IQR)))]\n",
      "<ipython-input-75-ae3f434e67ed>:40: FutureWarning: Automatic reindexing on DataFrame vs Series comparisons is deprecated and will raise ValueError in a future version.  Do `left, right = left.align(right, axis=1, copy=False)` before e.g. `left == right`\n",
      "  subset2py_no_outlier = subset2py2[~((subset2py2<(Q1-1.5*IQR)))]\n",
      "<ipython-input-75-ae3f434e67ed>:40: FutureWarning: Automatic reindexing on DataFrame vs Series comparisons is deprecated and will raise ValueError in a future version.  Do `left, right = left.align(right, axis=1, copy=False)` before e.g. `left == right`\n",
      "  subset2py_no_outlier = subset2py2[~((subset2py2<(Q1-1.5*IQR)))]\n",
      "<ipython-input-75-ae3f434e67ed>:40: FutureWarning: Automatic reindexing on DataFrame vs Series comparisons is deprecated and will raise ValueError in a future version.  Do `left, right = left.align(right, axis=1, copy=False)` before e.g. `left == right`\n",
      "  subset2py_no_outlier = subset2py2[~((subset2py2<(Q1-1.5*IQR)))]\n",
      "<ipython-input-75-ae3f434e67ed>:40: FutureWarning: Automatic reindexing on DataFrame vs Series comparisons is deprecated and will raise ValueError in a future version.  Do `left, right = left.align(right, axis=1, copy=False)` before e.g. `left == right`\n",
      "  subset2py_no_outlier = subset2py2[~((subset2py2<(Q1-1.5*IQR)))]\n",
      "<ipython-input-75-ae3f434e67ed>:40: FutureWarning: Automatic reindexing on DataFrame vs Series comparisons is deprecated and will raise ValueError in a future version.  Do `left, right = left.align(right, axis=1, copy=False)` before e.g. `left == right`\n",
      "  subset2py_no_outlier = subset2py2[~((subset2py2<(Q1-1.5*IQR)))]\n",
      "<ipython-input-75-ae3f434e67ed>:40: FutureWarning: Automatic reindexing on DataFrame vs Series comparisons is deprecated and will raise ValueError in a future version.  Do `left, right = left.align(right, axis=1, copy=False)` before e.g. `left == right`\n",
      "  subset2py_no_outlier = subset2py2[~((subset2py2<(Q1-1.5*IQR)))]\n",
      "<ipython-input-75-ae3f434e67ed>:40: FutureWarning: Automatic reindexing on DataFrame vs Series comparisons is deprecated and will raise ValueError in a future version.  Do `left, right = left.align(right, axis=1, copy=False)` before e.g. `left == right`\n",
      "  subset2py_no_outlier = subset2py2[~((subset2py2<(Q1-1.5*IQR)))]\n",
      "<ipython-input-75-ae3f434e67ed>:40: FutureWarning: Automatic reindexing on DataFrame vs Series comparisons is deprecated and will raise ValueError in a future version.  Do `left, right = left.align(right, axis=1, copy=False)` before e.g. `left == right`\n",
      "  subset2py_no_outlier = subset2py2[~((subset2py2<(Q1-1.5*IQR)))]\n",
      "<ipython-input-75-ae3f434e67ed>:40: FutureWarning: Automatic reindexing on DataFrame vs Series comparisons is deprecated and will raise ValueError in a future version.  Do `left, right = left.align(right, axis=1, copy=False)` before e.g. `left == right`\n",
      "  subset2py_no_outlier = subset2py2[~((subset2py2<(Q1-1.5*IQR)))]\n",
      "<ipython-input-75-ae3f434e67ed>:40: FutureWarning: Automatic reindexing on DataFrame vs Series comparisons is deprecated and will raise ValueError in a future version.  Do `left, right = left.align(right, axis=1, copy=False)` before e.g. `left == right`\n",
      "  subset2py_no_outlier = subset2py2[~((subset2py2<(Q1-1.5*IQR)))]\n",
      "<ipython-input-75-ae3f434e67ed>:40: FutureWarning: Automatic reindexing on DataFrame vs Series comparisons is deprecated and will raise ValueError in a future version.  Do `left, right = left.align(right, axis=1, copy=False)` before e.g. `left == right`\n",
      "  subset2py_no_outlier = subset2py2[~((subset2py2<(Q1-1.5*IQR)))]\n",
      "<ipython-input-75-ae3f434e67ed>:40: FutureWarning: Automatic reindexing on DataFrame vs Series comparisons is deprecated and will raise ValueError in a future version.  Do `left, right = left.align(right, axis=1, copy=False)` before e.g. `left == right`\n",
      "  subset2py_no_outlier = subset2py2[~((subset2py2<(Q1-1.5*IQR)))]\n",
      "<ipython-input-75-ae3f434e67ed>:40: FutureWarning: Automatic reindexing on DataFrame vs Series comparisons is deprecated and will raise ValueError in a future version.  Do `left, right = left.align(right, axis=1, copy=False)` before e.g. `left == right`\n",
      "  subset2py_no_outlier = subset2py2[~((subset2py2<(Q1-1.5*IQR)))]\n",
      "<ipython-input-75-ae3f434e67ed>:40: FutureWarning: Automatic reindexing on DataFrame vs Series comparisons is deprecated and will raise ValueError in a future version.  Do `left, right = left.align(right, axis=1, copy=False)` before e.g. `left == right`\n",
      "  subset2py_no_outlier = subset2py2[~((subset2py2<(Q1-1.5*IQR)))]\n",
      "<ipython-input-75-ae3f434e67ed>:40: FutureWarning: Automatic reindexing on DataFrame vs Series comparisons is deprecated and will raise ValueError in a future version.  Do `left, right = left.align(right, axis=1, copy=False)` before e.g. `left == right`\n",
      "  subset2py_no_outlier = subset2py2[~((subset2py2<(Q1-1.5*IQR)))]\n",
      "<ipython-input-75-ae3f434e67ed>:40: FutureWarning: Automatic reindexing on DataFrame vs Series comparisons is deprecated and will raise ValueError in a future version.  Do `left, right = left.align(right, axis=1, copy=False)` before e.g. `left == right`\n",
      "  subset2py_no_outlier = subset2py2[~((subset2py2<(Q1-1.5*IQR)))]\n",
      "<ipython-input-75-ae3f434e67ed>:40: FutureWarning: Automatic reindexing on DataFrame vs Series comparisons is deprecated and will raise ValueError in a future version.  Do `left, right = left.align(right, axis=1, copy=False)` before e.g. `left == right`\n",
      "  subset2py_no_outlier = subset2py2[~((subset2py2<(Q1-1.5*IQR)))]\n",
      "<ipython-input-75-ae3f434e67ed>:40: FutureWarning: Automatic reindexing on DataFrame vs Series comparisons is deprecated and will raise ValueError in a future version.  Do `left, right = left.align(right, axis=1, copy=False)` before e.g. `left == right`\n",
      "  subset2py_no_outlier = subset2py2[~((subset2py2<(Q1-1.5*IQR)))]\n",
      "<ipython-input-75-ae3f434e67ed>:40: FutureWarning: Automatic reindexing on DataFrame vs Series comparisons is deprecated and will raise ValueError in a future version.  Do `left, right = left.align(right, axis=1, copy=False)` before e.g. `left == right`\n",
      "  subset2py_no_outlier = subset2py2[~((subset2py2<(Q1-1.5*IQR)))]\n",
      "<ipython-input-75-ae3f434e67ed>:40: FutureWarning: Automatic reindexing on DataFrame vs Series comparisons is deprecated and will raise ValueError in a future version.  Do `left, right = left.align(right, axis=1, copy=False)` before e.g. `left == right`\n",
      "  subset2py_no_outlier = subset2py2[~((subset2py2<(Q1-1.5*IQR)))]\n",
      "<ipython-input-75-ae3f434e67ed>:40: FutureWarning: Automatic reindexing on DataFrame vs Series comparisons is deprecated and will raise ValueError in a future version.  Do `left, right = left.align(right, axis=1, copy=False)` before e.g. `left == right`\n",
      "  subset2py_no_outlier = subset2py2[~((subset2py2<(Q1-1.5*IQR)))]\n",
      "<ipython-input-75-ae3f434e67ed>:40: FutureWarning: Automatic reindexing on DataFrame vs Series comparisons is deprecated and will raise ValueError in a future version.  Do `left, right = left.align(right, axis=1, copy=False)` before e.g. `left == right`\n",
      "  subset2py_no_outlier = subset2py2[~((subset2py2<(Q1-1.5*IQR)))]\n",
      "<ipython-input-75-ae3f434e67ed>:40: FutureWarning: Automatic reindexing on DataFrame vs Series comparisons is deprecated and will raise ValueError in a future version.  Do `left, right = left.align(right, axis=1, copy=False)` before e.g. `left == right`\n",
      "  subset2py_no_outlier = subset2py2[~((subset2py2<(Q1-1.5*IQR)))]\n",
      "<ipython-input-75-ae3f434e67ed>:40: FutureWarning: Automatic reindexing on DataFrame vs Series comparisons is deprecated and will raise ValueError in a future version.  Do `left, right = left.align(right, axis=1, copy=False)` before e.g. `left == right`\n",
      "  subset2py_no_outlier = subset2py2[~((subset2py2<(Q1-1.5*IQR)))]\n",
      "<ipython-input-75-ae3f434e67ed>:40: FutureWarning: Automatic reindexing on DataFrame vs Series comparisons is deprecated and will raise ValueError in a future version.  Do `left, right = left.align(right, axis=1, copy=False)` before e.g. `left == right`\n",
      "  subset2py_no_outlier = subset2py2[~((subset2py2<(Q1-1.5*IQR)))]\n",
      "<ipython-input-75-ae3f434e67ed>:40: FutureWarning: Automatic reindexing on DataFrame vs Series comparisons is deprecated and will raise ValueError in a future version.  Do `left, right = left.align(right, axis=1, copy=False)` before e.g. `left == right`\n",
      "  subset2py_no_outlier = subset2py2[~((subset2py2<(Q1-1.5*IQR)))]\n",
      "<ipython-input-75-ae3f434e67ed>:40: FutureWarning: Automatic reindexing on DataFrame vs Series comparisons is deprecated and will raise ValueError in a future version.  Do `left, right = left.align(right, axis=1, copy=False)` before e.g. `left == right`\n",
      "  subset2py_no_outlier = subset2py2[~((subset2py2<(Q1-1.5*IQR)))]\n",
      "<ipython-input-75-ae3f434e67ed>:40: FutureWarning: Automatic reindexing on DataFrame vs Series comparisons is deprecated and will raise ValueError in a future version.  Do `left, right = left.align(right, axis=1, copy=False)` before e.g. `left == right`\n",
      "  subset2py_no_outlier = subset2py2[~((subset2py2<(Q1-1.5*IQR)))]\n"
     ]
    }
   ],
   "source": [
    "\"import dependencies\"\n",
    "import math\n",
    "import pandas as pd\n",
    "import matplotlib.pyplot as plt\n",
    "import numpy as np\n",
    "import os \n",
    "from matplotlib import colors\n",
    "from matplotlib.ticker import PercentFormatter\n",
    "\n",
    "\n",
    "team_Data = pd.read_csv(\"../Resources/teamData.csv\")\n",
    "player_Data = pd.read_csv(\"../Resources/playerData.csv\")\n",
    "crossReference_Data = pd.read_csv(\"../Resources/crossReference.csv\")\n",
    "\n",
    "BEGIN_YEAR = 1986\n",
    "END_YEAR = 2018\n",
    "\n",
    "\n",
    "for year in range(BEGIN_YEAR, END_YEAR):\n",
    "    merged_player_data = player_Data.loc[(player_Data['Year'] >= BEGIN_YEAR) & (player_Data['Year'] < END_YEAR)]\n",
    "\n",
    "    merged_player_data = merged_player_data[merged_player_data['Year']==year]\n",
    "\n",
    "    selected_columns = ['Player', 'PER', 'TS%', 'ORB%', 'DRB%', 'AST%', 'STL%', 'BLK%', 'TOV%', 'WS', '3P%', '2P%', 'FT%', 'PTS', 'MP']\n",
    "    selected_columns_with_age = ['Player', 'PER', 'TS%', 'ORB%', 'DRB%', 'AST%', 'STL%', 'BLK%', 'TOV%', 'WS', '3P%', '2P%', 'FT%', 'PTS', 'MP', 'Age']\n",
    "\n",
    "    subset2py = merged_player_data[selected_columns]\n",
    "    subset_with_age = merged_player_data[selected_columns_with_age]\n",
    "    subset2py2 = subset2py\n",
    "\n",
    "    Q1=subset2py2.quantile(0.25)\n",
    "    Q3=subset2py2.quantile(0.75)\n",
    "    IQR=Q3-Q1\n",
    "\n",
    "    #set up quantiles and IQR with age\n",
    "    Q1a = subset_with_age.quantile(0.25)\n",
    "    Q3a = subset_with_age.quantile(0.75)\n",
    "    IQRa = Q3a-Q1a\n",
    "\n",
    "    subset2py_no_outlier = subset2py2[~((subset2py2<(Q1-1.5*IQR)))]\n",
    "\n",
    "\n",
    "    percentile_df = pd.DataFrame()\n",
    "    for column in selected_columns[1:]:\n",
    "    #fileter by year\n",
    "        percentile_df[f\"{column}_percentile\"] = merged_player_data[column].rank(pct = True)\n",
    "    \n",
    "    percentile_df['Player Name'] = merged_player_data['Player']\n",
    "    percentile_df = percentile_df.dropna().reset_index()\n",
    "\n",
    "    main_perc_list = []\n",
    "\n",
    "\n",
    "    for index in range(0,percentile_df.shape[0]):\n",
    "        row_sum = sum(list(percentile_df.iloc[index])[1:-2])\n",
    "        row_main_perc = (row_sum/15)\n",
    "        main_perc_list.append(row_main_perc)\n",
    "\n",
    "    main_percentile = pd.DataFrame(main_perc_list)\n",
    "    percentile_df['Main Percentile'] = main_percentile\n",
    "    [row, cols] = percentile_df.shape\n",
    "\n",
    "    def mean(data):\n",
    "        total = sum(data)\n",
    "        return total / len(data)\n",
    "\n",
    "\n",
    "    #numerator : list -> float\n",
    "    def numerator(data):\n",
    "        SD_mean = mean(data)\n",
    "        total = 0 \n",
    "        for val in data:\n",
    "            total = total + ((val - SD_mean)**2)\n",
    "        return total\n",
    "\n",
    "\n",
    "    #std : list -> float\n",
    "    def std(data):\n",
    "        num =  numerator(data)\n",
    "        den = len(data)\n",
    "        return math.sqrt(num/den)\n",
    "\n",
    "\n",
    "    #new_formula : list -> list\n",
    "    def new_formula(data): \n",
    "        percentile = []\n",
    "        std_fun = std(data)\n",
    "        mean_fun = mean(data)\n",
    "        for value in data:\n",
    "            adjusted_value = (value - mean_fun)/std_fun\n",
    "            percentile.append(adjusted_value)\n",
    "        return percentile\n",
    "    \n",
    "    adjusted_percentile_df  = pd.DataFrame(new_formula(percentile_df['Main Percentile']))\n",
    "\n",
    "    percentile_df['Adjusted Percentile'] = adjusted_percentile_df\n",
    "\n",
    "    \n",
    "    percentile_df.to_csv(f'../Resources/yearly_csvs/{year}_data.csv')\n",
    "\n",
    "\n",
    "\n"
   ]
  },
  {
   "cell_type": "code",
   "execution_count": 76,
   "metadata": {},
   "outputs": [],
   "source": [
    "resources_path = ('../Resources/yearly_csvs')\n",
    "yearly_list = []\n",
    "for item in os.listdir(resources_path): \n",
    "    item_path = os.path.join(resources_path, item)\n",
    "    if os.path.join(resources_path, item): #if it is a file we will continue\n",
    "        read_csv = pd.read_csv(item_path)\n",
    "        temp = pd.DataFrame(read_csv)\n",
    "        yearly_list.append(temp)\n"
   ]
  },
  {
   "cell_type": "code",
   "execution_count": null,
   "metadata": {},
   "outputs": [],
   "source": []
  },
  {
   "cell_type": "code",
   "execution_count": 118,
   "metadata": {},
   "outputs": [
    {
     "output_type": "execute_result",
     "data": {
      "text/plain": [
       "'Shawn Kemp'"
      ]
     },
     "metadata": {},
     "execution_count": 118
    }
   ],
   "source": [
    "adujusted_mean = yearly_list[13].groupby('Player Name')['Adjusted Percentile'].mean()\n",
    "player_df = pd.DataFrame({'Player Name': adujusted_mean.index, 'Adjusted Mean': adujusted_mean.values})\n",
    "descending_order_ajm = player_df.sort_values(\"Adjusted Mean\", ascending=False)\n",
    "descending_order_ajm.iloc[0, 0]"
   ]
  },
  {
   "cell_type": "code",
   "execution_count": 72,
   "metadata": {},
   "outputs": [
    {
     "output_type": "execute_result",
     "data": {
      "text/plain": [
       "'Dwight Howard'"
      ]
     },
     "metadata": {},
     "execution_count": 72
    }
   ],
   "source": []
  },
  {
   "cell_type": "code",
   "execution_count": 104,
   "metadata": {},
   "outputs": [
    {
     "output_type": "execute_result",
     "data": {
      "text/plain": [
       "            Player Name  Adjusted Mean\n",
       "0          Aaron Brooks      -0.095798\n",
       "1            Aaron Gray      -0.029947\n",
       "2              Acie Law      -0.894706\n",
       "3         Adam Morrison      -1.818288\n",
       "4         Al Harrington      -0.067892\n",
       "..                  ...            ...\n",
       "360           Yao Ming*       2.473913\n",
       "361         Yi Jianlian      -0.372635\n",
       "362       Zach Randolph       0.616127\n",
       "363       Zaza Pachulia       0.805411\n",
       "364  Zydrunas Ilgauskas       1.002229\n",
       "\n",
       "[365 rows x 2 columns]"
      ],
      "text/html": "<div>\n<style scoped>\n    .dataframe tbody tr th:only-of-type {\n        vertical-align: middle;\n    }\n\n    .dataframe tbody tr th {\n        vertical-align: top;\n    }\n\n    .dataframe thead th {\n        text-align: right;\n    }\n</style>\n<table border=\"1\" class=\"dataframe\">\n  <thead>\n    <tr style=\"text-align: right;\">\n      <th></th>\n      <th>Player Name</th>\n      <th>Adjusted Mean</th>\n    </tr>\n  </thead>\n  <tbody>\n    <tr>\n      <th>0</th>\n      <td>Aaron Brooks</td>\n      <td>-0.095798</td>\n    </tr>\n    <tr>\n      <th>1</th>\n      <td>Aaron Gray</td>\n      <td>-0.029947</td>\n    </tr>\n    <tr>\n      <th>2</th>\n      <td>Acie Law</td>\n      <td>-0.894706</td>\n    </tr>\n    <tr>\n      <th>3</th>\n      <td>Adam Morrison</td>\n      <td>-1.818288</td>\n    </tr>\n    <tr>\n      <th>4</th>\n      <td>Al Harrington</td>\n      <td>-0.067892</td>\n    </tr>\n    <tr>\n      <th>...</th>\n      <td>...</td>\n      <td>...</td>\n    </tr>\n    <tr>\n      <th>360</th>\n      <td>Yao Ming*</td>\n      <td>2.473913</td>\n    </tr>\n    <tr>\n      <th>361</th>\n      <td>Yi Jianlian</td>\n      <td>-0.372635</td>\n    </tr>\n    <tr>\n      <th>362</th>\n      <td>Zach Randolph</td>\n      <td>0.616127</td>\n    </tr>\n    <tr>\n      <th>363</th>\n      <td>Zaza Pachulia</td>\n      <td>0.805411</td>\n    </tr>\n    <tr>\n      <th>364</th>\n      <td>Zydrunas Ilgauskas</td>\n      <td>1.002229</td>\n    </tr>\n  </tbody>\n</table>\n<p>365 rows × 2 columns</p>\n</div>"
     },
     "metadata": {},
     "execution_count": 104
    }
   ],
   "source": [
    "adujusted_mean = yearly_list[23].groupby('Player Name')['Adjusted Percentile'].mean()\n",
    "player_df = pd.DataFrame({'Player Name': adujusted_mean.index, 'Adjusted Mean': adujusted_mean.values})\n",
    "player_df"
   ]
  },
  {
   "cell_type": "code",
   "execution_count": 34,
   "metadata": {},
   "outputs": [
    {
     "output_type": "execute_result",
     "data": {
      "text/plain": [
       "        Player Name  Adjusted Mean\n",
       "217    LeBron James       2.243354\n",
       "200    Kevin Durant       2.135130\n",
       "5        Al Horford       2.099443\n",
       "128  Gerald Wallace       2.050548\n",
       "112   Dwight Howard       2.039980\n",
       "..              ...            ...\n",
       "220  Lindsey Hunter      -2.489529\n",
       "355   Travis Diener      -2.519455\n",
       "369     Will Conroy      -2.520568\n",
       "285    Quinton Ross      -2.624220\n",
       "343  Taylor Griffin      -2.675074\n",
       "\n",
       "[376 rows x 2 columns]"
      ],
      "text/html": "<div>\n<style scoped>\n    .dataframe tbody tr th:only-of-type {\n        vertical-align: middle;\n    }\n\n    .dataframe tbody tr th {\n        vertical-align: top;\n    }\n\n    .dataframe thead th {\n        text-align: right;\n    }\n</style>\n<table border=\"1\" class=\"dataframe\">\n  <thead>\n    <tr style=\"text-align: right;\">\n      <th></th>\n      <th>Player Name</th>\n      <th>Adjusted Mean</th>\n    </tr>\n  </thead>\n  <tbody>\n    <tr>\n      <th>217</th>\n      <td>LeBron James</td>\n      <td>2.243354</td>\n    </tr>\n    <tr>\n      <th>200</th>\n      <td>Kevin Durant</td>\n      <td>2.135130</td>\n    </tr>\n    <tr>\n      <th>5</th>\n      <td>Al Horford</td>\n      <td>2.099443</td>\n    </tr>\n    <tr>\n      <th>128</th>\n      <td>Gerald Wallace</td>\n      <td>2.050548</td>\n    </tr>\n    <tr>\n      <th>112</th>\n      <td>Dwight Howard</td>\n      <td>2.039980</td>\n    </tr>\n    <tr>\n      <th>...</th>\n      <td>...</td>\n      <td>...</td>\n    </tr>\n    <tr>\n      <th>220</th>\n      <td>Lindsey Hunter</td>\n      <td>-2.489529</td>\n    </tr>\n    <tr>\n      <th>355</th>\n      <td>Travis Diener</td>\n      <td>-2.519455</td>\n    </tr>\n    <tr>\n      <th>369</th>\n      <td>Will Conroy</td>\n      <td>-2.520568</td>\n    </tr>\n    <tr>\n      <th>285</th>\n      <td>Quinton Ross</td>\n      <td>-2.624220</td>\n    </tr>\n    <tr>\n      <th>343</th>\n      <td>Taylor Griffin</td>\n      <td>-2.675074</td>\n    </tr>\n  </tbody>\n</table>\n<p>376 rows × 2 columns</p>\n</div>"
     },
     "metadata": {},
     "execution_count": 34
    }
   ],
   "source": [
    "descending_order_ajm = player_df.sort_values(\"Adjusted Mean\", ascending=False)\n",
    "descending_order_ajm"
   ]
  },
  {
   "cell_type": "code",
   "execution_count": 35,
   "metadata": {},
   "outputs": [
    {
     "output_type": "execute_result",
     "data": {
      "text/plain": [
       "'LeBron James'"
      ]
     },
     "metadata": {},
     "execution_count": 35
    }
   ],
   "source": [
    "descending_order_ajm.iloc[0, 0]"
   ]
  },
  {
   "cell_type": "code",
   "execution_count": 40,
   "metadata": {},
   "outputs": [
    {
     "output_type": "error",
     "ename": "TypeError",
     "evalue": "'builtin_function_or_method' object is not subscriptable",
     "traceback": [
      "\u001b[1;31m---------------------------------------------------------------------------\u001b[0m",
      "\u001b[1;31mTypeError\u001b[0m                                 Traceback (most recent call last)",
      "\u001b[1;32m<ipython-input-40-4932d87761fa>\u001b[0m in \u001b[0;36m<module>\u001b[1;34m\u001b[0m\n\u001b[1;32m----> 1\u001b[1;33m \u001b[0mkey\u001b[0m \u001b[1;33m=\u001b[0m \u001b[0mnp\u001b[0m\u001b[1;33m.\u001b[0m\u001b[0marange\u001b[0m\u001b[1;33m[\u001b[0m\u001b[1;36m1986\u001b[0m\u001b[1;33m,\u001b[0m \u001b[1;36m2017\u001b[0m\u001b[1;33m,\u001b[0m \u001b[1;36m1\u001b[0m\u001b[1;33m]\u001b[0m\u001b[1;33m\u001b[0m\u001b[1;33m\u001b[0m\u001b[0m\n\u001b[0m\u001b[0;32m      2\u001b[0m \u001b[0mprint\u001b[0m\u001b[1;33m(\u001b[0m\u001b[0mkey\u001b[0m\u001b[1;33m)\u001b[0m\u001b[1;33m\u001b[0m\u001b[1;33m\u001b[0m\u001b[0m\n",
      "\u001b[1;31mTypeError\u001b[0m: 'builtin_function_or_method' object is not subscriptable"
     ]
    }
   ],
   "source": [
    "key = np.arange[1986, 2017, 1]\n",
    "print(key)"
   ]
  },
  {
   "cell_type": "code",
   "execution_count": 120,
   "metadata": {},
   "outputs": [],
   "source": [
    "hist(merged_player_data['MP'])"
   ]
  },
  {
   "cell_type": "code",
   "execution_count": null,
   "metadata": {},
   "outputs": [],
   "source": []
  }
 ]
}